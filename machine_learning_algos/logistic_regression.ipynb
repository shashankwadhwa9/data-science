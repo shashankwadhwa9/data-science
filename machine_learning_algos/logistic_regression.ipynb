{
 "cells": [
  {
   "cell_type": "markdown",
   "metadata": {},
   "source": [
    "# Code Logistic Regression from scratch in Python"
   ]
  },
  {
   "cell_type": "markdown",
   "metadata": {},
   "source": [
    "Equation of logistic regression is: y = 1/(1 + exp(-z))\n",
    "where z = θ0 + θ1\\*x1 + θ2\\*x2 + θ3\\*x3 + θ4\\*x4 + ..."
   ]
  },
  {
   "cell_type": "markdown",
   "metadata": {},
   "source": [
    "Lets say in our case z = 5 + (-2)\\*x1 + 3\\*x2 + (-4)\\*x3 + 2.5\\*x4"
   ]
  },
  {
   "cell_type": "markdown",
   "metadata": {},
   "source": [
    "Our goal is to estimate θ0, θ1, θ2, θ3 and θ4 from the data"
   ]
  },
  {
   "cell_type": "code",
   "execution_count": 1,
   "metadata": {},
   "outputs": [],
   "source": [
    "import copy\n",
    "import numpy as np\n",
    "import pandas as pd\n",
    "\n",
    "NUM_FEATURES = 4\n",
    "NUM_ROWS = 10000\n",
    "THETAS = np.array([5, -2, 3, -4, 2.5])\n",
    "EPOCHS = 10000\n",
    "LEARNING_RATE = 0.1"
   ]
  },
  {
   "cell_type": "markdown",
   "metadata": {},
   "source": [
    "### Create dummy data"
   ]
  },
  {
   "cell_type": "code",
   "execution_count": 2,
   "metadata": {},
   "outputs": [],
   "source": [
    "def sigmoid(x):\n",
    "    return 1/(1 + np.exp((-1)*x))"
   ]
  },
  {
   "cell_type": "code",
   "execution_count": 3,
   "metadata": {},
   "outputs": [],
   "source": [
    "def create_dummy_data(num_features, num_rows):\n",
    "    columns = []\n",
    "    for i in range(1, num_features+1):\n",
    "        column_name = f'x{i}'\n",
    "        columns.append(column_name)\n",
    "        \n",
    "    x_columns = copy.deepcopy(columns)\n",
    "    columns.append('y')\n",
    "    \n",
    "    df = pd.DataFrame(columns=columns)\n",
    "    for i in range(num_rows):\n",
    "        X = np.random.randint(1, 100, num_features)\n",
    "        X = np.insert(X, 0, 1)\n",
    "        products = X*THETAS\n",
    "        # Add random jitter of 10%\n",
    "        jitter = np.random.uniform(-0.1, 0.1, num_features+1)\n",
    "        products = products+(jitter*products)\n",
    "        z = sum(products)\n",
    "        z_sigmoid = sigmoid(z)\n",
    "        y = 1 if z_sigmoid >= 0.5 else 0\n",
    "        df.loc[len(df)] = list(X[1:]) + [y]\n",
    "        \n",
    "    return df"
   ]
  },
  {
   "cell_type": "code",
   "execution_count": 4,
   "metadata": {},
   "outputs": [],
   "source": [
    "df = create_dummy_data(num_features=NUM_FEATURES, num_rows=NUM_ROWS)"
   ]
  },
  {
   "cell_type": "code",
   "execution_count": 5,
   "metadata": {},
   "outputs": [
    {
     "data": {
      "text/plain": [
       "(10000, 5)"
      ]
     },
     "execution_count": 5,
     "metadata": {},
     "output_type": "execute_result"
    }
   ],
   "source": [
    "df.shape"
   ]
  },
  {
   "cell_type": "code",
   "execution_count": 6,
   "metadata": {},
   "outputs": [
    {
     "data": {
      "text/html": [
       "<div>\n",
       "<style scoped>\n",
       "    .dataframe tbody tr th:only-of-type {\n",
       "        vertical-align: middle;\n",
       "    }\n",
       "\n",
       "    .dataframe tbody tr th {\n",
       "        vertical-align: top;\n",
       "    }\n",
       "\n",
       "    .dataframe thead th {\n",
       "        text-align: right;\n",
       "    }\n",
       "</style>\n",
       "<table border=\"1\" class=\"dataframe\">\n",
       "  <thead>\n",
       "    <tr style=\"text-align: right;\">\n",
       "      <th></th>\n",
       "      <th>x1</th>\n",
       "      <th>x2</th>\n",
       "      <th>x3</th>\n",
       "      <th>x4</th>\n",
       "      <th>y</th>\n",
       "    </tr>\n",
       "  </thead>\n",
       "  <tbody>\n",
       "    <tr>\n",
       "      <th>0</th>\n",
       "      <td>26</td>\n",
       "      <td>37</td>\n",
       "      <td>95</td>\n",
       "      <td>99</td>\n",
       "      <td>0</td>\n",
       "    </tr>\n",
       "    <tr>\n",
       "      <th>1</th>\n",
       "      <td>51</td>\n",
       "      <td>3</td>\n",
       "      <td>58</td>\n",
       "      <td>81</td>\n",
       "      <td>0</td>\n",
       "    </tr>\n",
       "    <tr>\n",
       "      <th>2</th>\n",
       "      <td>26</td>\n",
       "      <td>49</td>\n",
       "      <td>61</td>\n",
       "      <td>69</td>\n",
       "      <td>1</td>\n",
       "    </tr>\n",
       "    <tr>\n",
       "      <th>3</th>\n",
       "      <td>25</td>\n",
       "      <td>33</td>\n",
       "      <td>93</td>\n",
       "      <td>41</td>\n",
       "      <td>0</td>\n",
       "    </tr>\n",
       "    <tr>\n",
       "      <th>4</th>\n",
       "      <td>92</td>\n",
       "      <td>12</td>\n",
       "      <td>82</td>\n",
       "      <td>45</td>\n",
       "      <td>0</td>\n",
       "    </tr>\n",
       "  </tbody>\n",
       "</table>\n",
       "</div>"
      ],
      "text/plain": [
       "   x1  x2  x3  x4  y\n",
       "0  26  37  95  99  0\n",
       "1  51   3  58  81  0\n",
       "2  26  49  61  69  1\n",
       "3  25  33  93  41  0\n",
       "4  92  12  82  45  0"
      ]
     },
     "execution_count": 6,
     "metadata": {},
     "output_type": "execute_result"
    }
   ],
   "source": [
    "df.head()"
   ]
  },
  {
   "cell_type": "code",
   "execution_count": 7,
   "metadata": {},
   "outputs": [
    {
     "data": {
      "text/plain": [
       "0    5462\n",
       "1    4538\n",
       "Name: y, dtype: int64"
      ]
     },
     "execution_count": 7,
     "metadata": {},
     "output_type": "execute_result"
    }
   ],
   "source": [
    "df['y'].value_counts()"
   ]
  },
  {
   "cell_type": "markdown",
   "metadata": {},
   "source": [
    "### Estimate parameters from data"
   ]
  },
  {
   "cell_type": "code",
   "execution_count": 8,
   "metadata": {},
   "outputs": [
    {
     "name": "stderr",
     "output_type": "stream",
     "text": [
      "/Users/shashankwadhwa/Desktop/Work/env/ds3/lib/python3.6/site-packages/ipykernel_launcher.py:2: RuntimeWarning: overflow encountered in exp\n",
      "  \n"
     ]
    }
   ],
   "source": [
    "# Start with random estimates of parameters\n",
    "params = np.zeros((NUM_FEATURES+1, 1))\n",
    "X = df.iloc[:, :NUM_FEATURES]\n",
    "X['x0'] = 1\n",
    "columns_order = sorted(X.columns)\n",
    "X = X[columns_order]\n",
    "y = df['y'].values.reshape((NUM_ROWS, 1))\n",
    "\n",
    "# Update parameters in each epoch using Gradient Descent\n",
    "for i in range(EPOCHS):\n",
    "    y_hat = sigmoid(np.array(np.dot(X, params), dtype=np.float32))\n",
    "    d_y_hat = y_hat - y\n",
    "    d_params = np.dot(d_y_hat.T, X)/NUM_ROWS\n",
    "    params = params - (LEARNING_RATE * d_params.T)"
   ]
  },
  {
   "cell_type": "code",
   "execution_count": 9,
   "metadata": {},
   "outputs": [
    {
     "data": {
      "text/plain": [
       "array([[1.3310168926529196],\n",
       "       [-2.2472836416330457],\n",
       "       [3.7876212192331646],\n",
       "       [-4.67323900760257],\n",
       "       [3.1673963195294292]], dtype=object)"
      ]
     },
     "execution_count": 9,
     "metadata": {},
     "output_type": "execute_result"
    }
   ],
   "source": [
    "params"
   ]
  },
  {
   "cell_type": "code",
   "execution_count": 10,
   "metadata": {},
   "outputs": [
    {
     "data": {
      "text/plain": [
       "array([[3.7565263278020744],\n",
       "       [0.8899633152433972],\n",
       "       [0.7920538581752309],\n",
       "       [0.8559373902110883],\n",
       "       [0.7892918181995671]], dtype=object)"
      ]
     },
     "execution_count": 10,
     "metadata": {},
     "output_type": "execute_result"
    }
   ],
   "source": [
    "THETAS.reshape((5,1))/params"
   ]
  },
  {
   "cell_type": "markdown",
   "metadata": {},
   "source": [
    "### Our estimated parameters are not quite close to the original parameters, but the ratio of actual/computed is roughly same for all (~0.8) which shows they will converge if the number of epochs are increased."
   ]
  },
  {
   "cell_type": "code",
   "execution_count": null,
   "metadata": {},
   "outputs": [],
   "source": []
  }
 ],
 "metadata": {
  "kernelspec": {
   "display_name": "Python 3",
   "language": "python",
   "name": "python3"
  },
  "language_info": {
   "codemirror_mode": {
    "name": "ipython",
    "version": 3
   },
   "file_extension": ".py",
   "mimetype": "text/x-python",
   "name": "python",
   "nbconvert_exporter": "python",
   "pygments_lexer": "ipython3",
   "version": "3.6.3"
  }
 },
 "nbformat": 4,
 "nbformat_minor": 2
}
