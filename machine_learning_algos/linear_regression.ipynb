{
 "cells": [
  {
   "cell_type": "markdown",
   "metadata": {},
   "source": [
    "# Code Linear Regression from scratch in Python"
   ]
  },
  {
   "cell_type": "markdown",
   "metadata": {},
   "source": [
    "Equation of linear regression is: y = θ0 + θ1\\*x1 + θ2\\*x2 + θ3\\*x3 + θ4\\*x4 + ..."
   ]
  },
  {
   "cell_type": "markdown",
   "metadata": {},
   "source": [
    "Lets say our equation is y=5 + (-2)\\*x1 + 3\\*x2 + (-4)\\*x3 + 2.5\\*x4"
   ]
  },
  {
   "cell_type": "markdown",
   "metadata": {},
   "source": [
    "Our goal is to estimate θ0, θ1, θ2, θ3 and θ4 from the data"
   ]
  },
  {
   "cell_type": "code",
   "execution_count": 1,
   "metadata": {},
   "outputs": [],
   "source": [
    "import copy\n",
    "import numpy as np\n",
    "import pandas as pd\n",
    "\n",
    "NUM_FEATURES = 4\n",
    "NUM_ROWS = 10000\n",
    "THETAS = np.array([5, -2, 3, -4, 2.5])\n",
    "EPOCHS = 1000\n",
    "LEARNING_RATE = 0.0001"
   ]
  },
  {
   "cell_type": "markdown",
   "metadata": {},
   "source": [
    "### Create dummy data"
   ]
  },
  {
   "cell_type": "code",
   "execution_count": 2,
   "metadata": {},
   "outputs": [],
   "source": [
    "def create_dummy_data(num_features, num_rows):\n",
    "    columns = []\n",
    "    for i in range(1, num_features+1):\n",
    "        column_name = f'x{i}'\n",
    "        columns.append(column_name)\n",
    "        \n",
    "    x_columns = copy.deepcopy(columns)\n",
    "    columns.append('y')\n",
    "    \n",
    "    df = pd.DataFrame(columns=columns)\n",
    "    for i in range(num_rows):\n",
    "        X = np.random.randint(1, 100, num_features)\n",
    "        X = np.insert(X, 0, 1)\n",
    "        products = X*THETAS\n",
    "        # Add random jitter of 10%\n",
    "        jitter = np.random.uniform(-0.1, 0.1, num_features+1)\n",
    "        products = products+(jitter*products)\n",
    "        y = sum(products)\n",
    "        df.loc[len(df)] = list(X[1:]) + [y]\n",
    "        \n",
    "    return df"
   ]
  },
  {
   "cell_type": "code",
   "execution_count": 3,
   "metadata": {},
   "outputs": [],
   "source": [
    "df = create_dummy_data(num_features=NUM_FEATURES, num_rows=NUM_ROWS)"
   ]
  },
  {
   "cell_type": "code",
   "execution_count": 4,
   "metadata": {},
   "outputs": [
    {
     "data": {
      "text/plain": [
       "(10000, 5)"
      ]
     },
     "execution_count": 4,
     "metadata": {},
     "output_type": "execute_result"
    }
   ],
   "source": [
    "df.shape"
   ]
  },
  {
   "cell_type": "code",
   "execution_count": 5,
   "metadata": {},
   "outputs": [
    {
     "data": {
      "text/html": [
       "<div>\n",
       "<style scoped>\n",
       "    .dataframe tbody tr th:only-of-type {\n",
       "        vertical-align: middle;\n",
       "    }\n",
       "\n",
       "    .dataframe tbody tr th {\n",
       "        vertical-align: top;\n",
       "    }\n",
       "\n",
       "    .dataframe thead th {\n",
       "        text-align: right;\n",
       "    }\n",
       "</style>\n",
       "<table border=\"1\" class=\"dataframe\">\n",
       "  <thead>\n",
       "    <tr style=\"text-align: right;\">\n",
       "      <th></th>\n",
       "      <th>x1</th>\n",
       "      <th>x2</th>\n",
       "      <th>x3</th>\n",
       "      <th>x4</th>\n",
       "      <th>y</th>\n",
       "    </tr>\n",
       "  </thead>\n",
       "  <tbody>\n",
       "    <tr>\n",
       "      <th>0</th>\n",
       "      <td>22.0</td>\n",
       "      <td>91.0</td>\n",
       "      <td>55.0</td>\n",
       "      <td>14.0</td>\n",
       "      <td>14.873948</td>\n",
       "    </tr>\n",
       "    <tr>\n",
       "      <th>1</th>\n",
       "      <td>68.0</td>\n",
       "      <td>65.0</td>\n",
       "      <td>15.0</td>\n",
       "      <td>38.0</td>\n",
       "      <td>96.623906</td>\n",
       "    </tr>\n",
       "    <tr>\n",
       "      <th>2</th>\n",
       "      <td>67.0</td>\n",
       "      <td>51.0</td>\n",
       "      <td>55.0</td>\n",
       "      <td>88.0</td>\n",
       "      <td>51.257299</td>\n",
       "    </tr>\n",
       "    <tr>\n",
       "      <th>3</th>\n",
       "      <td>4.0</td>\n",
       "      <td>29.0</td>\n",
       "      <td>38.0</td>\n",
       "      <td>54.0</td>\n",
       "      <td>75.744315</td>\n",
       "    </tr>\n",
       "    <tr>\n",
       "      <th>4</th>\n",
       "      <td>63.0</td>\n",
       "      <td>77.0</td>\n",
       "      <td>48.0</td>\n",
       "      <td>38.0</td>\n",
       "      <td>6.576228</td>\n",
       "    </tr>\n",
       "  </tbody>\n",
       "</table>\n",
       "</div>"
      ],
      "text/plain": [
       "     x1    x2    x3    x4          y\n",
       "0  22.0  91.0  55.0  14.0  14.873948\n",
       "1  68.0  65.0  15.0  38.0  96.623906\n",
       "2  67.0  51.0  55.0  88.0  51.257299\n",
       "3   4.0  29.0  38.0  54.0  75.744315\n",
       "4  63.0  77.0  48.0  38.0   6.576228"
      ]
     },
     "execution_count": 5,
     "metadata": {},
     "output_type": "execute_result"
    }
   ],
   "source": [
    "df.head()"
   ]
  },
  {
   "cell_type": "markdown",
   "metadata": {},
   "source": [
    "### Estimate parameters from data"
   ]
  },
  {
   "cell_type": "code",
   "execution_count": 6,
   "metadata": {},
   "outputs": [],
   "source": [
    "# Start with random estimates of parameters\n",
    "params = np.zeros((NUM_FEATURES+1, 1))\n",
    "X = df.iloc[:, :NUM_FEATURES]\n",
    "X['x0'] = 1\n",
    "columns_order = sorted(X.columns)\n",
    "X = X[columns_order]\n",
    "y = df['y'].values.reshape((NUM_ROWS, 1))\n",
    "\n",
    "# Update parameters in each epoch using Gradient Descent\n",
    "for i in range(EPOCHS):\n",
    "    y_hat = np.dot(X, params)\n",
    "    d_y_hat = y_hat - y\n",
    "    d_params = np.dot(d_y_hat.T, X)/NUM_ROWS\n",
    "    params = params - (LEARNING_RATE * d_params.T)"
   ]
  },
  {
   "cell_type": "code",
   "execution_count": 7,
   "metadata": {},
   "outputs": [
    {
     "data": {
      "text/plain": [
       "array([[ 0.03526132],\n",
       "       [-1.9765777 ],\n",
       "       [ 3.02662393],\n",
       "       [-3.98288818],\n",
       "       [ 2.52647893]])"
      ]
     },
     "execution_count": 7,
     "metadata": {},
     "output_type": "execute_result"
    }
   ],
   "source": [
    "params"
   ]
  },
  {
   "cell_type": "markdown",
   "metadata": {},
   "source": [
    "### We can see that our estimated parameters are close to the ones we set above. The value of θ0 is far off because it is very small, and its impact is adjusted in the remaining parameters"
   ]
  }
 ],
 "metadata": {
  "kernelspec": {
   "display_name": "Python 3",
   "language": "python",
   "name": "python3"
  },
  "language_info": {
   "codemirror_mode": {
    "name": "ipython",
    "version": 3
   },
   "file_extension": ".py",
   "mimetype": "text/x-python",
   "name": "python",
   "nbconvert_exporter": "python",
   "pygments_lexer": "ipython3",
   "version": "3.6.3"
  }
 },
 "nbformat": 4,
 "nbformat_minor": 2
}
